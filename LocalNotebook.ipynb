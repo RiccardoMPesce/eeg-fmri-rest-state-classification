{
  "cells": [
    {
      "cell_type": "markdown",
      "metadata": {
        "colab_type": "text",
        "id": "view-in-github"
      },
      "source": [
        "<a href=\"https://colab.research.google.com/github/RiccardoMPesce/eeg-fmri-rest-state-classification/blob/main/CNNForfMRIRestState.ipynb\" target=\"_parent\"><img src=\"https://colab.research.google.com/assets/colab-badge.svg\" alt=\"Open In Colab\"/></a>"
      ]
    },
    {
      "cell_type": "code",
      "execution_count": 1,
      "metadata": {
        "id": "20ZhfEMr5JRZ"
      },
      "outputs": [],
      "source": [
        "import nibabel\n",
        "import mne\n",
        "\n",
        "import importlib\n",
        "import json\n",
        "import wandb\n",
        "\n",
        "from glob import glob\n",
        "from pathlib import Path\n",
        "\n",
        "import numpy as np\n",
        "import pandas as pd\n",
        "import matplotlib.pyplot as plt\n",
        "\n",
        "import torch\n",
        "from torch.utils.data import Dataset, DataLoader\n",
        "import torch.nn.functional as F\n",
        "\n",
        "from dataset_utils import *\n",
        "from dataset import *\n",
        "from train_utils import *\n",
        "from basic_models import *"
      ]
    },
    {
      "cell_type": "code",
      "execution_count": 2,
      "metadata": {
        "id": "DnXS9chVGcv7"
      },
      "outputs": [],
      "source": [
        "CWL_BASE_PATH = Path(\"CWLData\")\n",
        "MRI_BASE_PATH = CWL_BASE_PATH / \"mri\" / \"epi_normalized\"\n",
        "EEG_BASE_PATH = CWL_BASE_PATH / \"eeg\" / \"in-scan\"\n",
        "DATASET_BASE_PATH = CWL_BASE_PATH / \"dataset\"\n",
        "CHECKPOINT_PATH = CWL_BASE_PATH / \"checkpoints\"\n",
        "METRICS_PATH = CWL_BASE_PATH / \"metrics\"\n",
        "\n",
        "# Hyperparameters\n",
        "BATCH_SIZE = 16\n",
        "LEARNING_RATE = 10 ** (-3)\n",
        "EPOCHS = 100\n",
        "\n",
        "DATASET_BASE_PATH.mkdir(exist_ok=True)"
      ]
    },
    {
      "cell_type": "code",
      "execution_count": 3,
      "metadata": {},
      "outputs": [
        {
          "name": "stdout",
          "output_type": "stream",
          "text": [
            "MPS (Metal) available\n"
          ]
        }
      ],
      "source": [
        "# Backend options\n",
        "if torch.cuda.is_available():\n",
        "    DEVICE = torch.device(\"cuda\")\n",
        "    torch.backends.cudnn.benchmark = True\n",
        "    print(\"CUDA available\")\n",
        "    mne.set_config(\"MNE_USE_CUDA\", \"True\")\n",
        "elif torch.backends.mps.is_available():\n",
        "    DEVICE = torch.device(\"mps\")\n",
        "    print(\"MPS (Metal) available\")\n",
        "else:\n",
        "    DEVICE = torch.device(\"cpu\")\n",
        "    print(\"CPU available\")"
      ]
    },
    {
      "cell_type": "code",
      "execution_count": 4,
      "metadata": {
        "id": "yxKGRCbIDdp9"
      },
      "outputs": [],
      "source": [
        "dataset = EEGMRIDataset(DATASET_BASE_PATH / \"by_interval\", use_cwl=True)\n",
        "dataset_no_cwl = EEGMRIDataset(DATASET_BASE_PATH / \"by_interval\", use_cwl=False)"
      ]
    },
    {
      "cell_type": "code",
      "execution_count": 5,
      "metadata": {
        "id": "7NocE3Tffegn"
      },
      "outputs": [],
      "source": [
        "splits = make_splits(dataset)"
      ]
    },
    {
      "cell_type": "code",
      "execution_count": 6,
      "metadata": {
        "id": "FlyEVSOWvvxL"
      },
      "outputs": [],
      "source": [
        "loaders = {split: DataLoader(Splitter(dataset, split_dict = splits, split_name = split), batch_size = BATCH_SIZE, drop_last = True, shuffle = True) for split in [\"train\", \"val\", \"test\"]}\n",
        "loaders_no_cwl = {split: DataLoader(Splitter(dataset_no_cwl, split_dict = splits, split_name = split), batch_size = BATCH_SIZE, drop_last = True, shuffle = True) for split in [\"train\", \"val\", \"test\"]}"
      ]
    },
    {
      "cell_type": "code",
      "execution_count": 7,
      "metadata": {},
      "outputs": [],
      "source": [
        "conv1d_base_net_model = Conv1DBaseNet({\"in_channels\": 38, \"num_classes\": 2, \"verbose\": True})\n",
        "optimizer = torch.optim.Adam(conv1d_base_net_model.parameters(), lr=LEARNING_RATE)"
      ]
    },
    {
      "cell_type": "code",
      "execution_count": 8,
      "metadata": {},
      "outputs": [
        {
          "name": "stderr",
          "output_type": "stream",
          "text": [
            "\u001b[34m\u001b[1mwandb\u001b[0m: Currently logged in as: \u001b[33mriccardompesce\u001b[0m (\u001b[33meeg-fmri-rest-state\u001b[0m). Use \u001b[1m`wandb login --relogin`\u001b[0m to force relogin\n"
          ]
        },
        {
          "data": {
            "text/html": [
              "Tracking run with wandb version 0.14.0"
            ],
            "text/plain": [
              "<IPython.core.display.HTML object>"
            ]
          },
          "metadata": {},
          "output_type": "display_data"
        },
        {
          "data": {
            "text/html": [
              "Run data is saved locally in <code>/Users/riccardo.pesce/Works/RTh/eeg-fmri-rest-state-classification/wandb/run-20230319_103901-t2yiilqo</code>"
            ],
            "text/plain": [
              "<IPython.core.display.HTML object>"
            ]
          },
          "metadata": {},
          "output_type": "display_data"
        },
        {
          "data": {
            "text/html": [
              "Syncing run <strong><a href='https://wandb.ai/eeg-fmri-rest-state/EEG-FMRI-Rest-State-Classification/runs/t2yiilqo' target=\"_blank\">fresh-flower-33</a></strong> to <a href='https://wandb.ai/eeg-fmri-rest-state/EEG-FMRI-Rest-State-Classification' target=\"_blank\">Weights & Biases</a> (<a href='https://wandb.me/run' target=\"_blank\">docs</a>)<br/>"
            ],
            "text/plain": [
              "<IPython.core.display.HTML object>"
            ]
          },
          "metadata": {},
          "output_type": "display_data"
        },
        {
          "data": {
            "text/html": [
              " View project at <a href='https://wandb.ai/eeg-fmri-rest-state/EEG-FMRI-Rest-State-Classification' target=\"_blank\">https://wandb.ai/eeg-fmri-rest-state/EEG-FMRI-Rest-State-Classification</a>"
            ],
            "text/plain": [
              "<IPython.core.display.HTML object>"
            ]
          },
          "metadata": {},
          "output_type": "display_data"
        },
        {
          "data": {
            "text/html": [
              " View run at <a href='https://wandb.ai/eeg-fmri-rest-state/EEG-FMRI-Rest-State-Classification/runs/t2yiilqo' target=\"_blank\">https://wandb.ai/eeg-fmri-rest-state/EEG-FMRI-Rest-State-Classification/runs/t2yiilqo</a>"
            ],
            "text/plain": [
              "<IPython.core.display.HTML object>"
            ]
          },
          "metadata": {},
          "output_type": "display_data"
        },
        {
          "name": "stdout",
          "output_type": "stream",
          "text": [
            "Training starting at epoch 1\n",
            "torch.Size([16, 38, 2000])\n"
          ]
        },
        {
          "ename": "",
          "evalue": "",
          "output_type": "error",
          "traceback": [
            "\u001b[1;31mThe Kernel crashed while executing code in the the current cell or a previous cell. Please review the code in the cell(s) to identify a possible cause of the failure. Click <a href='https://aka.ms/vscodeJupyterKernelCrash'>here</a> for more info. View Jupyter <a href='command:jupyter.viewOutput'>log</a> for further details."
          ]
        },
        {
          "ename": "",
          "evalue": "",
          "output_type": "error",
          "traceback": [
            "\u001b[1;31mCanceled future for execute_request message before replies were done"
          ]
        }
      ],
      "source": [
        "train_loop_eeg(\n",
        "    conv1d_base_net_model, \n",
        "    loaders, \n",
        "    optimizer, \n",
        "    F.cross_entropy,\n",
        "    METRICS_PATH / \"conv1d_base_net_model_accuracy.json\",\n",
        "    METRICS_PATH / \"conv1d_base_net_model_loss.json\",\n",
        "    CHECKPOINT_PATH / \"conv1d_base_net_model\",\n",
        "    EPOCHS,\n",
        "    DEVICE,\n",
        "    LEARNING_RATE,\n",
        "    False\n",
        ")"
      ]
    },
    {
      "cell_type": "code",
      "execution_count": null,
      "metadata": {},
      "outputs": [],
      "source": []
    }
  ],
  "metadata": {
    "accelerator": "GPU",
    "colab": {
      "authorship_tag": "ABX9TyPy0CAMvCsVa5T9CapVtXZT",
      "include_colab_link": true,
      "machine_shape": "hm",
      "provenance": []
    },
    "gpuClass": "standard",
    "kernelspec": {
      "display_name": "Python 3",
      "name": "python3"
    },
    "language_info": {
      "codemirror_mode": {
        "name": "ipython",
        "version": 3
      },
      "file_extension": ".py",
      "mimetype": "text/x-python",
      "name": "python",
      "nbconvert_exporter": "python",
      "pygments_lexer": "ipython3",
      "version": "3.10.9"
    }
  },
  "nbformat": 4,
  "nbformat_minor": 0
}
