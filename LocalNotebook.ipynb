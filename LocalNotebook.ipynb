{
  "cells": [
    {
      "cell_type": "markdown",
      "metadata": {
        "colab_type": "text",
        "id": "view-in-github"
      },
      "source": [
        "<a href=\"https://colab.research.google.com/github/RiccardoMPesce/eeg-fmri-rest-state-classification/blob/main/CNNForfMRIRestState.ipynb\" target=\"_parent\"><img src=\"https://colab.research.google.com/assets/colab-badge.svg\" alt=\"Open In Colab\"/></a>"
      ]
    },
    {
      "cell_type": "code",
      "execution_count": 3,
      "metadata": {
        "id": "20ZhfEMr5JRZ"
      },
      "outputs": [],
      "source": [
        "import nibabel\n",
        "import mne\n",
        "\n",
        "import importlib\n",
        "import json\n",
        "import wandb\n",
        "\n",
        "from glob import glob\n",
        "from pathlib import Path\n",
        "\n",
        "import numpy as np\n",
        "import pandas as pd\n",
        "import matplotlib.pyplot as plt\n",
        "\n",
        "import torch\n",
        "from torch.utils.data import Dataset, DataLoader\n",
        "import torch.nn.functional as F\n",
        "\n",
        "from dataset_utils import *\n",
        "from dataset import *\n",
        "from train_utils import *\n",
        "from basic_models import *"
      ]
    },
    {
      "cell_type": "code",
      "execution_count": 4,
      "metadata": {
        "id": "DnXS9chVGcv7"
      },
      "outputs": [],
      "source": [
        "CWL_BASE_PATH = Path(\"CWLData\")\n",
        "MRI_BASE_PATH = CWL_BASE_PATH / \"mri\" / \"epi_normalized\"\n",
        "EEG_BASE_PATH = CWL_BASE_PATH / \"eeg\" / \"in-scan\"\n",
        "DATASET_BASE_PATH = CWL_BASE_PATH / \"dataset\"\n",
        "CHECKPOINT_PATH = CWL_BASE_PATH / \"checkpoints\"\n",
        "METRICS_PATH = CWL_BASE_PATH / \"metrics\"\n",
        "\n",
        "# Hyperparameters\n",
        "BATCH_SIZE = 16\n",
        "LEARNING_RATE = 10 ** (-3)\n",
        "EPOCHS = 100\n",
        "\n",
        "DATASET_BASE_PATH.mkdir(exist_ok=True)"
      ]
    },
    {
      "cell_type": "code",
      "execution_count": 5,
      "metadata": {},
      "outputs": [
        {
          "name": "stdout",
          "output_type": "stream",
          "text": [
            "MPS (Metal) available\n"
          ]
        }
      ],
      "source": [
        "# Backend options\n",
        "if torch.cuda.is_available():\n",
        "    DEVICE = torch.device(\"cuda\")\n",
        "    torch.backends.cudnn.benchmark = True\n",
        "    print(\"CUDA available\")\n",
        "    mne.set_config(\"MNE_USE_CUDA\", \"True\")\n",
        "elif torch.backends.mps.is_available():\n",
        "    DEVICE = torch.device(\"mps\")\n",
        "    print(\"MPS (Metal) available\")\n",
        "else:\n",
        "    DEVICE = torch.device(\"cpu\")\n",
        "    print(\"CPU available\")"
      ]
    },
    {
      "cell_type": "code",
      "execution_count": 6,
      "metadata": {
        "id": "yxKGRCbIDdp9"
      },
      "outputs": [],
      "source": [
        "dataset = EEGMRIDataset(DATASET_BASE_PATH / \"by_interval\", use_cwl=True)\n",
        "dataset_no_cwl = EEGMRIDataset(DATASET_BASE_PATH / \"by_interval\", use_cwl=False)"
      ]
    },
    {
      "cell_type": "code",
      "execution_count": 7,
      "metadata": {
        "id": "7NocE3Tffegn"
      },
      "outputs": [],
      "source": [
        "splits = make_splits(dataset)"
      ]
    },
    {
      "cell_type": "code",
      "execution_count": 8,
      "metadata": {
        "id": "FlyEVSOWvvxL"
      },
      "outputs": [],
      "source": [
        "loaders = {split: DataLoader(Splitter(dataset, split_dict = splits, split_name = split), batch_size = BATCH_SIZE, drop_last = True, shuffle = True) for split in [\"train\", \"val\", \"test\"]}\n",
        "loaders_no_cwl = {split: DataLoader(Splitter(dataset_no_cwl, split_dict = splits, split_name = split), batch_size = BATCH_SIZE, drop_last = True, shuffle = True) for split in [\"train\", \"val\", \"test\"]}"
      ]
    },
    {
      "cell_type": "code",
      "execution_count": null,
      "metadata": {},
      "outputs": [],
      "source": []
    }
  ],
  "metadata": {
    "accelerator": "GPU",
    "colab": {
      "authorship_tag": "ABX9TyPy0CAMvCsVa5T9CapVtXZT",
      "include_colab_link": true,
      "machine_shape": "hm",
      "provenance": []
    },
    "gpuClass": "standard",
    "kernelspec": {
      "display_name": "Python 3",
      "name": "python3"
    },
    "language_info": {
      "codemirror_mode": {
        "name": "ipython",
        "version": 3
      },
      "file_extension": ".py",
      "mimetype": "text/x-python",
      "name": "python",
      "nbconvert_exporter": "python",
      "pygments_lexer": "ipython3",
      "version": "3.10.9"
    }
  },
  "nbformat": 4,
  "nbformat_minor": 0
}
